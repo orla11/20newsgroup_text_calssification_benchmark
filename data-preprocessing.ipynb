{
 "cells": [
  {
   "cell_type": "markdown",
   "metadata": {},
   "source": [
    "# 20 News Groups Benchmark\n",
    "## Data Pre-processing"
   ]
  },
  {
   "cell_type": "code",
   "execution_count": 1,
   "metadata": {},
   "outputs": [
    {
     "name": "stderr",
     "output_type": "stream",
     "text": [
      "Using TensorFlow backend.\n"
     ]
    }
   ],
   "source": [
    "from keras.preprocessing.text import Tokenizer\n",
    "from keras.preprocessing.sequence import pad_sequences"
   ]
  },
  {
   "cell_type": "code",
   "execution_count": 2,
   "metadata": {},
   "outputs": [],
   "source": [
    "from utils import *"
   ]
  },
  {
   "cell_type": "code",
   "execution_count": 3,
   "metadata": {},
   "outputs": [],
   "source": [
    "MAX_SEQUENCE_LENGTH = 200"
   ]
  },
  {
   "cell_type": "markdown",
   "metadata": {},
   "source": [
    "### Tokenizing"
   ]
  },
  {
   "cell_type": "code",
   "execution_count": 4,
   "metadata": {},
   "outputs": [
    {
     "name": "stderr",
     "output_type": "stream",
     "text": [
      "100%|██████████| 18846/18846 [12:03<00:00, 26.03it/s] \n"
     ]
    },
    {
     "name": "stdout",
     "output_type": "stream",
     "text": [
      "Trovati 107196 token univoci per il dataset di training.\n"
     ]
    }
   ],
   "source": [
    "# load dataset\n",
    "x_data, labels, labelToName = get20News()\n",
    "\n",
    "numClasses = len(labelToName)\n",
    "\n",
    "# Lista di tuple ordinate per il numero di label [ (0, ''), (1, ''), .. ]\n",
    "labelToNameSortedByLabel = sorted(labelToName.items(), key=lambda kv: kv[0])\n",
    "namesInLabelOrder = [item[1] for item in labelToNameSortedByLabel]\n",
    "\n",
    "tokenizer = Tokenizer()\n",
    "tokenizer.fit_on_texts(x_data)\n",
    "\n",
    "print('Trovati %s token univoci per il dataset di training.' % len(tokenizer.word_index))"
   ]
  },
  {
   "cell_type": "markdown",
   "metadata": {},
   "source": [
    "### Truncating & Padding\n",
    "tutti i dati di input hanno la stessa dimensione e lunghezza in fase di modellazione e di training"
   ]
  },
  {
   "cell_type": "code",
   "execution_count": 5,
   "metadata": {},
   "outputs": [],
   "source": [
    "# ottengo la sequenza delle parole in un \n",
    "# determinato file sostituendole con i rispettivi token\n",
    "#\n",
    "# esempio:\n",
    "#    texts = ['a a a', 'b b', 'c']\n",
    "#    tokenizer.word_index\n",
    "#       Out[1]: {'a': 1, 'b': 2, 'c': 3}\n",
    "#    tokenizer.texts_to_sequences(texts)\n",
    "#       Out[6]: [[1, 1, 1], [2, 2], [3]]\n",
    "\n",
    "encoded_documents = tokenizer.texts_to_sequences(x_data)\n",
    "\n",
    "# trasforma le sequenze in array 2D (lunghezza_sequenza, MAX_SEQUENCE_LENGTH)\n",
    "x_encoded_data = pad_sequences(encoded_documents, maxlen=MAX_SEQUENCE_LENGTH, padding='post')"
   ]
  },
  {
   "cell_type": "markdown",
   "metadata": {},
   "source": [
    "### Train & Test Split"
   ]
  },
  {
   "cell_type": "code",
   "execution_count": 6,
   "metadata": {},
   "outputs": [],
   "source": [
    "x_train,y_train, x_test,y_test, test_indices = train_test_split(x_encoded_data,labels,test_size=0.2)"
   ]
  },
  {
   "cell_type": "code",
   "execution_count": 7,
   "metadata": {},
   "outputs": [
    {
     "name": "stdout",
     "output_type": "stream",
     "text": [
      "forma del tensore dati di training: (14636, 200)\n",
      "forma del tensore dati di test: (3660, 200)\n"
     ]
    }
   ],
   "source": [
    "print('forma del tensore dati di training:', x_train.shape)\n",
    "print('forma del tensore dati di test:', x_test.shape)"
   ]
  },
  {
   "cell_type": "markdown",
   "metadata": {},
   "source": [
    "### Saving pre-processed data for future use"
   ]
  },
  {
   "cell_type": "code",
   "execution_count": 8,
   "metadata": {},
   "outputs": [],
   "source": [
    "savePkl('x_train',x_train)\n",
    "savePkl('y_train',y_train)\n",
    "\n",
    "savePkl('x_test',x_test)\n",
    "savePkl('y_test',y_test)\n",
    "\n",
    "savePkl('word_index',tokenizer.word_index)\n",
    "savePkl('test_indicies',test_indices)\n",
    "savePkl('labels',labels)\n",
    "savePkl('namesInLabelOrder',namesInLabelOrder)"
   ]
  },
  {
   "cell_type": "markdown",
   "metadata": {},
   "source": [
    "## End"
   ]
  }
 ],
 "metadata": {
  "kernelspec": {
   "display_name": "20newsgroups",
   "language": "python",
   "name": "20newsgroups"
  },
  "language_info": {
   "codemirror_mode": {
    "name": "ipython",
    "version": 3
   },
   "file_extension": ".py",
   "mimetype": "text/x-python",
   "name": "python",
   "nbconvert_exporter": "python",
   "pygments_lexer": "ipython3",
   "version": "3.7.0"
  }
 },
 "nbformat": 4,
 "nbformat_minor": 2
}
